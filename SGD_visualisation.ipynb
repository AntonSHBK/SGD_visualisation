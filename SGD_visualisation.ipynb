{
 "cells": [
  {
   "cell_type": "markdown",
   "metadata": {},
   "source": [
    "# SGD Визуализация"
   ]
  },
  {
   "cell_type": "code",
   "execution_count": 17,
   "metadata": {},
   "outputs": [],
   "source": [
    "# Import libraries\n",
    "import pandas as pd\n",
    "import numpy as np\n",
    "import time\n",
    "import celluloid\n",
    "import sklearn\n",
    "from sklearn.preprocessing import OneHotEncoder\n",
    "from sklearn.datasets import fetch_openml\n",
    "from sklearn.model_selection import train_test_split\n",
    "from sklearn.utils import check_random_state\n",
    "from matplotlib import animation \n",
    "import matplotlib.pyplot as plt\n",
    "from mpl_toolkits.mplot3d import Axes3D\n",
    "from scipy.special import expit\n",
    "from celluloid import Camera\n"
   ]
  },
  {
   "cell_type": "markdown",
   "metadata": {},
   "source": [
    "Мы импортируем MNIST в скрипт на Python. Рукописные цифры набора данных MNIST представлены в виде изображений в оттенках серого, поэтому мы можем нормализовать входные данные путём масштабирования значений пикселей из диапазона 0-255 в диапазон 0-1,2 в нашем коде, следовательно, мы делим x-значения на 255."
   ]
  },
  {
   "cell_type": "code",
   "execution_count": 18,
   "metadata": {},
   "outputs": [],
   "source": [
    "# Turn down for faster convergence\n",
    "t0 = time.time()\n",
    "train_samples = 5000\n",
    "\n",
    "# Load data from https://www.openml.org/d/554\n",
    "X, y = fetch_openml(\n",
    "    \"mnist_784\", version=1, return_X_y=True, as_frame=False, parser=\"pandas\"\n",
    ")\n",
    "\n",
    "random_state = check_random_state(0)\n",
    "permutation = random_state.permutation(X.shape[0])\n",
    "X = X[permutation]\n",
    "y = y[permutation]\n",
    "X = X.reshape((X.shape[0], -1))\n",
    "\n",
    "X_train, X_test, y_train, y_test = train_test_split(\n",
    "    X, y, test_size=0.2\n",
    ")"
   ]
  },
  {
   "cell_type": "code",
   "execution_count": 25,
   "metadata": {},
   "outputs": [
    {
     "data": {
      "text/plain": [
       "array([[0, 0, 0, ..., 0, 0, 0],\n",
       "       [0, 0, 0, ..., 0, 0, 0],\n",
       "       [0, 0, 0, ..., 0, 0, 0],\n",
       "       ...,\n",
       "       [0, 0, 0, ..., 0, 0, 0],\n",
       "       [0, 0, 0, ..., 0, 0, 0],\n",
       "       [0, 0, 0, ..., 0, 0, 0]], dtype=int64)"
      ]
     },
     "execution_count": 25,
     "metadata": {},
     "output_type": "execute_result"
    }
   ],
   "source": [
    "X.reshape((X.shape[0], -1))"
   ]
  },
  {
   "cell_type": "markdown",
   "metadata": {},
   "source": [
    "Функция потерь"
   ]
  },
  {
   "cell_type": "code",
   "execution_count": 19,
   "metadata": {},
   "outputs": [],
   "source": [
    "hidden_0=50 # number of nodes of first hidden layer\n",
    "hidden_1=500 # number of nodes of second hidden layer\n",
    "\n",
    "# Set up cost function:\n",
    "def costs(x,y,w_a,w_b,seed_):  \n",
    "    np.random.seed(seed_) # insert random seed \n",
    "    w0=np.random.randn(hidden_0,784)  # weight matrix of 1st hidden layer\n",
    "    w1=np.random.randn(hidden_1,hidden_0) # weight matrix of 2nd hidden layer\n",
    "    w2=np.random.randn(10,hidden_1) # weight matrix of output layer\n",
    "    w2[5][250] = w_a # set value for weight w_250,5(2)\n",
    "    w2[5][251] = w_b # set value for weight w_251,5(2)\n",
    "    a0 = expit(w0 @ x.T)  # output of 1st hidden layer\n",
    "    a1=expit(w1 @ a0)  # output of 2nd hidden layer\n",
    "    pred= expit(w2 @ a1) # output of final layer\n",
    "    return np.mean(np.sum((y-pred)**2,axis=0)) # costs w.r.t. w_a and w_b"
   ]
  },
  {
   "cell_type": "markdown",
   "metadata": {},
   "source": [
    "Чтобы создать графики, мы определяем диапазоны значений для наших весов и строим сетку, получая таким образом все возможные комбинации значений веса для w_a и w_b соответственно. Для каждой пары w_a и w_b в нашей сетке мы намерены рассчитать соответствующие стоимости с помощью нашей функции стоимости. Далее мы можем, наконец, создать некоторые ландшафты потерь:"
   ]
  },
  {
   "cell_type": "code",
   "execution_count": 27,
   "metadata": {},
   "outputs": [
    {
     "ename": "KeyboardInterrupt",
     "evalue": "",
     "output_type": "error",
     "traceback": [
      "\u001b[1;31m---------------------------------------------------------------------------\u001b[0m",
      "\u001b[1;31mKeyboardInterrupt\u001b[0m                         Traceback (most recent call last)",
      "Cell \u001b[1;32mIn[27], line 7\u001b[0m\n\u001b[0;32m      4\u001b[0m M1, M2 \u001b[38;5;241m=\u001b[39m np\u001b[38;5;241m.\u001b[39mmeshgrid(m1s, m2s) \u001b[38;5;66;03m# create meshgrid \u001b[39;00m\n\u001b[0;32m      6\u001b[0m \u001b[38;5;66;03m# Determine costs for each coordinate in meshgrid: \u001b[39;00m\n\u001b[1;32m----> 7\u001b[0m zs_100 \u001b[38;5;241m=\u001b[39m np\u001b[38;5;241m.\u001b[39marray([costs(X_train[\u001b[38;5;241m0\u001b[39m:\u001b[38;5;241m100\u001b[39m],y_train[\u001b[38;5;241m0\u001b[39m:\u001b[38;5;241m100\u001b[39m]\u001b[38;5;241m.\u001b[39mT  \n\u001b[0;32m      8\u001b[0m                                ,np\u001b[38;5;241m.\u001b[39marray([[mp1]]), np\u001b[38;5;241m.\u001b[39marray([[mp2]]),\u001b[38;5;241m135\u001b[39m)  \n\u001b[0;32m      9\u001b[0m                        \u001b[38;5;28;01mfor\u001b[39;00m mp1, mp2 \u001b[38;5;129;01min\u001b[39;00m \u001b[38;5;28mzip\u001b[39m(np\u001b[38;5;241m.\u001b[39mravel(M1), np\u001b[38;5;241m.\u001b[39mravel(M2))])\n\u001b[0;32m     10\u001b[0m Z_100 \u001b[38;5;241m=\u001b[39m zs_100\u001b[38;5;241m.\u001b[39mreshape(M1\u001b[38;5;241m.\u001b[39mshape) \u001b[38;5;66;03m# z-values for N=100\u001b[39;00m\n\u001b[0;32m     12\u001b[0m zs_10000 \u001b[38;5;241m=\u001b[39m np\u001b[38;5;241m.\u001b[39marray([costs(X_train[\u001b[38;5;241m0\u001b[39m:\u001b[38;5;241m10000\u001b[39m],y_train[\u001b[38;5;241m0\u001b[39m:\u001b[38;5;241m10000\u001b[39m]\u001b[38;5;241m.\u001b[39mT  \n\u001b[0;32m     13\u001b[0m                                ,np\u001b[38;5;241m.\u001b[39marray([[mp1]]), np\u001b[38;5;241m.\u001b[39marray([[mp2]]),\u001b[38;5;241m135\u001b[39m)  \n\u001b[0;32m     14\u001b[0m                        \u001b[38;5;28;01mfor\u001b[39;00m mp1, mp2 \u001b[38;5;129;01min\u001b[39;00m \u001b[38;5;28mzip\u001b[39m(np\u001b[38;5;241m.\u001b[39mravel(M1), np\u001b[38;5;241m.\u001b[39mravel(M2))])\n",
      "Cell \u001b[1;32mIn[27], line 7\u001b[0m, in \u001b[0;36m<listcomp>\u001b[1;34m(.0)\u001b[0m\n\u001b[0;32m      4\u001b[0m M1, M2 \u001b[38;5;241m=\u001b[39m np\u001b[38;5;241m.\u001b[39mmeshgrid(m1s, m2s) \u001b[38;5;66;03m# create meshgrid \u001b[39;00m\n\u001b[0;32m      6\u001b[0m \u001b[38;5;66;03m# Determine costs for each coordinate in meshgrid: \u001b[39;00m\n\u001b[1;32m----> 7\u001b[0m zs_100 \u001b[38;5;241m=\u001b[39m np\u001b[38;5;241m.\u001b[39marray([\u001b[43mcosts\u001b[49m\u001b[43m(\u001b[49m\u001b[43mX_train\u001b[49m\u001b[43m[\u001b[49m\u001b[38;5;241;43m0\u001b[39;49m\u001b[43m:\u001b[49m\u001b[38;5;241;43m100\u001b[39;49m\u001b[43m]\u001b[49m\u001b[43m,\u001b[49m\u001b[43my_train\u001b[49m\u001b[43m[\u001b[49m\u001b[38;5;241;43m0\u001b[39;49m\u001b[43m:\u001b[49m\u001b[38;5;241;43m100\u001b[39;49m\u001b[43m]\u001b[49m\u001b[38;5;241;43m.\u001b[39;49m\u001b[43mT\u001b[49m\u001b[43m  \u001b[49m\n\u001b[0;32m      8\u001b[0m \u001b[43m                               \u001b[49m\u001b[43m,\u001b[49m\u001b[43mnp\u001b[49m\u001b[38;5;241;43m.\u001b[39;49m\u001b[43marray\u001b[49m\u001b[43m(\u001b[49m\u001b[43m[\u001b[49m\u001b[43m[\u001b[49m\u001b[43mmp1\u001b[49m\u001b[43m]\u001b[49m\u001b[43m]\u001b[49m\u001b[43m)\u001b[49m\u001b[43m,\u001b[49m\u001b[43m \u001b[49m\u001b[43mnp\u001b[49m\u001b[38;5;241;43m.\u001b[39;49m\u001b[43marray\u001b[49m\u001b[43m(\u001b[49m\u001b[43m[\u001b[49m\u001b[43m[\u001b[49m\u001b[43mmp2\u001b[49m\u001b[43m]\u001b[49m\u001b[43m]\u001b[49m\u001b[43m)\u001b[49m\u001b[43m,\u001b[49m\u001b[38;5;241;43m135\u001b[39;49m\u001b[43m)\u001b[49m  \n\u001b[0;32m      9\u001b[0m                        \u001b[38;5;28;01mfor\u001b[39;00m mp1, mp2 \u001b[38;5;129;01min\u001b[39;00m \u001b[38;5;28mzip\u001b[39m(np\u001b[38;5;241m.\u001b[39mravel(M1), np\u001b[38;5;241m.\u001b[39mravel(M2))])\n\u001b[0;32m     10\u001b[0m Z_100 \u001b[38;5;241m=\u001b[39m zs_100\u001b[38;5;241m.\u001b[39mreshape(M1\u001b[38;5;241m.\u001b[39mshape) \u001b[38;5;66;03m# z-values for N=100\u001b[39;00m\n\u001b[0;32m     12\u001b[0m zs_10000 \u001b[38;5;241m=\u001b[39m np\u001b[38;5;241m.\u001b[39marray([costs(X_train[\u001b[38;5;241m0\u001b[39m:\u001b[38;5;241m10000\u001b[39m],y_train[\u001b[38;5;241m0\u001b[39m:\u001b[38;5;241m10000\u001b[39m]\u001b[38;5;241m.\u001b[39mT  \n\u001b[0;32m     13\u001b[0m                                ,np\u001b[38;5;241m.\u001b[39marray([[mp1]]), np\u001b[38;5;241m.\u001b[39marray([[mp2]]),\u001b[38;5;241m135\u001b[39m)  \n\u001b[0;32m     14\u001b[0m                        \u001b[38;5;28;01mfor\u001b[39;00m mp1, mp2 \u001b[38;5;129;01min\u001b[39;00m \u001b[38;5;28mzip\u001b[39m(np\u001b[38;5;241m.\u001b[39mravel(M1), np\u001b[38;5;241m.\u001b[39mravel(M2))])\n",
      "Cell \u001b[1;32mIn[19], line 15\u001b[0m, in \u001b[0;36mcosts\u001b[1;34m(x, y, w_a, w_b, seed_)\u001b[0m\n\u001b[0;32m     13\u001b[0m a1\u001b[38;5;241m=\u001b[39mexpit(w1 \u001b[38;5;241m@\u001b[39m a0)  \u001b[38;5;66;03m# output of 2nd hidden layer\u001b[39;00m\n\u001b[0;32m     14\u001b[0m pred\u001b[38;5;241m=\u001b[39m expit(w2 \u001b[38;5;241m@\u001b[39m a1) \u001b[38;5;66;03m# output of final layer\u001b[39;00m\n\u001b[1;32m---> 15\u001b[0m \u001b[38;5;28;01mreturn\u001b[39;00m \u001b[43mnp\u001b[49m\u001b[38;5;241m.\u001b[39mmean(np\u001b[38;5;241m.\u001b[39msum((y\u001b[38;5;241m-\u001b[39mpred)\u001b[38;5;241m*\u001b[39m\u001b[38;5;241m*\u001b[39m\u001b[38;5;241m2\u001b[39m,axis\u001b[38;5;241m=\u001b[39m\u001b[38;5;241m0\u001b[39m))\n",
      "Cell \u001b[1;32mIn[19], line 15\u001b[0m, in \u001b[0;36mcosts\u001b[1;34m(x, y, w_a, w_b, seed_)\u001b[0m\n\u001b[0;32m     13\u001b[0m a1\u001b[38;5;241m=\u001b[39mexpit(w1 \u001b[38;5;241m@\u001b[39m a0)  \u001b[38;5;66;03m# output of 2nd hidden layer\u001b[39;00m\n\u001b[0;32m     14\u001b[0m pred\u001b[38;5;241m=\u001b[39m expit(w2 \u001b[38;5;241m@\u001b[39m a1) \u001b[38;5;66;03m# output of final layer\u001b[39;00m\n\u001b[1;32m---> 15\u001b[0m \u001b[38;5;28;01mreturn\u001b[39;00m \u001b[43mnp\u001b[49m\u001b[38;5;241m.\u001b[39mmean(np\u001b[38;5;241m.\u001b[39msum((y\u001b[38;5;241m-\u001b[39mpred)\u001b[38;5;241m*\u001b[39m\u001b[38;5;241m*\u001b[39m\u001b[38;5;241m2\u001b[39m,axis\u001b[38;5;241m=\u001b[39m\u001b[38;5;241m0\u001b[39m))\n",
      "File \u001b[1;32m_pydevd_bundle/pydevd_cython.pyx:1457\u001b[0m, in \u001b[0;36m_pydevd_bundle.pydevd_cython.SafeCallWrapper.__call__\u001b[1;34m()\u001b[0m\n",
      "File \u001b[1;32m_pydevd_bundle/pydevd_cython.pyx:701\u001b[0m, in \u001b[0;36m_pydevd_bundle.pydevd_cython.PyDBFrame.trace_dispatch\u001b[1;34m()\u001b[0m\n",
      "File \u001b[1;32m_pydevd_bundle/pydevd_cython.pyx:1152\u001b[0m, in \u001b[0;36m_pydevd_bundle.pydevd_cython.PyDBFrame.trace_dispatch\u001b[1;34m()\u001b[0m\n",
      "File \u001b[1;32m_pydevd_bundle/pydevd_cython.pyx:1135\u001b[0m, in \u001b[0;36m_pydevd_bundle.pydevd_cython.PyDBFrame.trace_dispatch\u001b[1;34m()\u001b[0m\n",
      "File \u001b[1;32m_pydevd_bundle/pydevd_cython.pyx:312\u001b[0m, in \u001b[0;36m_pydevd_bundle.pydevd_cython.PyDBFrame.do_wait_suspend\u001b[1;34m()\u001b[0m\n",
      "File \u001b[1;32md:\\Projects\\SGD_visualisation\\.venv\\lib\\site-packages\\debugpy\\_vendored\\pydevd\\pydevd.py:2070\u001b[0m, in \u001b[0;36mPyDB.do_wait_suspend\u001b[1;34m(self, thread, frame, event, arg, exception_type)\u001b[0m\n\u001b[0;32m   2067\u001b[0m             from_this_thread\u001b[38;5;241m.\u001b[39mappend(frame_custom_thread_id)\n\u001b[0;32m   2069\u001b[0m     \u001b[38;5;28;01mwith\u001b[39;00m \u001b[38;5;28mself\u001b[39m\u001b[38;5;241m.\u001b[39m_threads_suspended_single_notification\u001b[38;5;241m.\u001b[39mnotify_thread_suspended(thread_id, thread, stop_reason):\n\u001b[1;32m-> 2070\u001b[0m         keep_suspended \u001b[38;5;241m=\u001b[39m \u001b[38;5;28;43mself\u001b[39;49m\u001b[38;5;241;43m.\u001b[39;49m\u001b[43m_do_wait_suspend\u001b[49m\u001b[43m(\u001b[49m\u001b[43mthread\u001b[49m\u001b[43m,\u001b[49m\u001b[43m \u001b[49m\u001b[43mframe\u001b[49m\u001b[43m,\u001b[49m\u001b[43m \u001b[49m\u001b[43mevent\u001b[49m\u001b[43m,\u001b[49m\u001b[43m \u001b[49m\u001b[43marg\u001b[49m\u001b[43m,\u001b[49m\u001b[43m \u001b[49m\u001b[43msuspend_type\u001b[49m\u001b[43m,\u001b[49m\u001b[43m \u001b[49m\u001b[43mfrom_this_thread\u001b[49m\u001b[43m,\u001b[49m\u001b[43m \u001b[49m\u001b[43mframes_tracker\u001b[49m\u001b[43m)\u001b[49m\n\u001b[0;32m   2072\u001b[0m frames_list \u001b[38;5;241m=\u001b[39m \u001b[38;5;28;01mNone\u001b[39;00m\n\u001b[0;32m   2074\u001b[0m \u001b[38;5;28;01mif\u001b[39;00m keep_suspended:\n\u001b[0;32m   2075\u001b[0m     \u001b[38;5;66;03m# This means that we should pause again after a set next statement.\u001b[39;00m\n",
      "File \u001b[1;32md:\\Projects\\SGD_visualisation\\.venv\\lib\\site-packages\\debugpy\\_vendored\\pydevd\\pydevd.py:2106\u001b[0m, in \u001b[0;36mPyDB._do_wait_suspend\u001b[1;34m(self, thread, frame, event, arg, suspend_type, from_this_thread, frames_tracker)\u001b[0m\n\u001b[0;32m   2103\u001b[0m         \u001b[38;5;28mself\u001b[39m\u001b[38;5;241m.\u001b[39m_call_input_hook()\n\u001b[0;32m   2105\u001b[0m     \u001b[38;5;28mself\u001b[39m\u001b[38;5;241m.\u001b[39mprocess_internal_commands()\n\u001b[1;32m-> 2106\u001b[0m     \u001b[43mtime\u001b[49m\u001b[38;5;241;43m.\u001b[39;49m\u001b[43msleep\u001b[49m\u001b[43m(\u001b[49m\u001b[38;5;241;43m0.01\u001b[39;49m\u001b[43m)\u001b[49m\n\u001b[0;32m   2108\u001b[0m \u001b[38;5;28mself\u001b[39m\u001b[38;5;241m.\u001b[39mcancel_async_evaluation(get_current_thread_id(thread), \u001b[38;5;28mstr\u001b[39m(\u001b[38;5;28mid\u001b[39m(frame)))\n\u001b[0;32m   2110\u001b[0m \u001b[38;5;66;03m# process any stepping instructions\u001b[39;00m\n",
      "\u001b[1;31mKeyboardInterrupt\u001b[0m: "
     ]
    }
   ],
   "source": [
    "# Set range of values for meshgrid: \n",
    "m1s = np.linspace(-15, 17, 40)   \n",
    "m2s = np.linspace(-15, 18, 40)  \n",
    "M1, M2 = np.meshgrid(m1s, m2s) # create meshgrid \n",
    "\n",
    "# Determine costs for each coordinate in meshgrid: \n",
    "zs_100 = np.array(\n",
    "        [costs(\n",
    "                X_train[0:100],\n",
    "                y_train[0:100].T,\n",
    "                np.array([[mp1]]),\n",
    "                np.array([[mp2]]),\n",
    "                135\n",
    "        )  \n",
    "                       for mp1, mp2 in zip(np.ravel(M1), np.ravel(M2))]\n",
    ")\n",
    "Z_100 = zs_100.reshape(M1.shape) # z-values for N=100\n",
    "\n",
    "zs_10000 = np.array([costs(X_train[0:10000],y_train[0:10000].T  \n",
    "                               ,np.array([[mp1]]), np.array([[mp2]]),135)  \n",
    "                       for mp1, mp2 in zip(np.ravel(M1), np.ravel(M2))])\n",
    "Z_10000 = zs_10000.reshape(M1.shape) # z-values for N=10,000\n",
    "\n",
    "\n",
    "# Plot loss landscapes: \n",
    "fig = plt.figure(figsize=(10,7.5)) # create figure\n",
    "ax0 = fig.add_subplot(121, projection='3d' )\n",
    "ax1 = fig.add_subplot(122, projection='3d' )\n",
    "\n",
    "fontsize_=20 # set axis label fontsize\n",
    "labelsize_=12 # set tick label size\n",
    "\n",
    "# Customize subplots: \n",
    "ax0.view_init(elev=30, azim=-20)\n",
    "ax0.set_xlabel(r'$w_a$', fontsize=fontsize_, labelpad=9)\n",
    "ax0.set_ylabel(r'$w_b$', fontsize=fontsize_, labelpad=-5)\n",
    "ax0.set_zlabel(\"costs\", fontsize=fontsize_, labelpad=-30)\n",
    "ax0.tick_params(axis='x', pad=5, which='major', labelsize=labelsize_)\n",
    "ax0.tick_params(axis='y', pad=-5, which='major', labelsize=labelsize_)\n",
    "ax0.tick_params(axis='z', pad=5, which='major', labelsize=labelsize_)\n",
    "ax0.set_title('N:100',y=0.85,fontsize=15) # set title of subplot \n",
    "\n",
    "ax1.view_init(elev=30, azim=-30)\n",
    "ax1.set_xlabel(r'$w_a$', fontsize=fontsize_, labelpad=9)\n",
    "ax1.set_ylabel(r'$w_b$', fontsize=fontsize_, labelpad=-5)\n",
    "ax1.set_zlabel(\"costs\", fontsize=fontsize_, labelpad=-30)\n",
    "ax1.tick_params(axis='y', pad=-5, which='major', labelsize=labelsize_)\n",
    "ax1.tick_params(axis='x', pad=5, which='major', labelsize=labelsize_)\n",
    "ax1.tick_params(axis='z', pad=5, which='major', labelsize=labelsize_)\n",
    "ax1.set_title('N:10,000',y=0.85,fontsize=15)\n",
    "\n",
    "# Surface plots of costs (= loss landscapes):  \n",
    "ax0.plot_surface(M1, M2, Z_100, cmap='terrain', #surface plot\n",
    "                             antialiased=True,cstride=1,rstride=1, alpha=0.75)\n",
    "ax1.plot_surface(M1, M2, Z_10000, cmap='terrain', #surface plot\n",
    "                             antialiased=True,cstride=1,rstride=1, alpha=0.75)\n",
    "plt.tight_layout()\n",
    "plt.show()"
   ]
  }
 ],
 "metadata": {
  "kernelspec": {
   "display_name": ".venv",
   "language": "python",
   "name": "python3"
  },
  "language_info": {
   "codemirror_mode": {
    "name": "ipython",
    "version": 3
   },
   "file_extension": ".py",
   "mimetype": "text/x-python",
   "name": "python",
   "nbconvert_exporter": "python",
   "pygments_lexer": "ipython3",
   "version": "3.8.0"
  }
 },
 "nbformat": 4,
 "nbformat_minor": 2
}
